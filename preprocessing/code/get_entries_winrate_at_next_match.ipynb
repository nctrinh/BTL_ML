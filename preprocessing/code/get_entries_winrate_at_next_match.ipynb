{
 "cells": [
  {
   "cell_type": "code",
   "execution_count": 1,
   "metadata": {},
   "outputs": [],
   "source": [
    "import json"
   ]
  },
  {
   "cell_type": "code",
   "execution_count": 2,
   "metadata": {},
   "outputs": [],
   "source": [
    "entries_file_name = r'D:\\Learning\\ML\\BTL\\get_raw_data\\raw_data\\entries.json'\n",
    "puuids_file_name = r'D:\\Learning\\ML\\BTL\\get_raw_data\\raw_data\\puuid_full.json'\n",
    "entrie_win_rate_file_name = r'D:\\Learning\\ML\\BTL\\preprocessing\\clean_data\\entries_win_rate_at_next_match.json'"
   ]
  },
  {
   "cell_type": "code",
   "execution_count": 3,
   "metadata": {},
   "outputs": [],
   "source": [
    "with open(entries_file_name, 'r', encoding='utf-8') as file:\n",
    "    entries = json.load(file)"
   ]
  },
  {
   "cell_type": "code",
   "execution_count": 4,
   "metadata": {},
   "outputs": [],
   "source": [
    "with open(puuids_file_name, 'r', encoding='utf-8') as file:\n",
    "    puuids = json.load(file)"
   ]
  },
  {
   "cell_type": "code",
   "execution_count": 9,
   "metadata": {},
   "outputs": [],
   "source": [
    "puuid_win_rate = {\n",
    "    puuids[i] : round(((entries[i][\"wins\"] + 10 * 0.5) / (entries[i][\"wins\"] + entries[i][\"losses\"] + 10)) * 100, 2) if i < len(entries) else {\"puuid\": puuids[i], \"winRate\": None}\n",
    "    for i in range(len(puuids))\n",
    "}"
   ]
  },
  {
   "cell_type": "code",
   "execution_count": 10,
   "metadata": {},
   "outputs": [],
   "source": [
    "with open(entrie_win_rate_file_name, 'w', encoding='utf-8') as file:\n",
    "    json.dump(puuid_win_rate, file, ensure_ascii=False, indent=4)"
   ]
  },
  {
   "cell_type": "code",
   "execution_count": null,
   "metadata": {},
   "outputs": [],
   "source": []
  }
 ],
 "metadata": {
  "kernelspec": {
   "display_name": "base",
   "language": "python",
   "name": "python3"
  },
  "language_info": {
   "codemirror_mode": {
    "name": "ipython",
    "version": 3
   },
   "file_extension": ".py",
   "mimetype": "text/x-python",
   "name": "python",
   "nbconvert_exporter": "python",
   "pygments_lexer": "ipython3",
   "version": "3.12.2"
  }
 },
 "nbformat": 4,
 "nbformat_minor": 2
}
