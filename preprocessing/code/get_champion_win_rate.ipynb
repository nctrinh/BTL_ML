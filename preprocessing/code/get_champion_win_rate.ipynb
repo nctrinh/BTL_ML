{
 "cells": [
  {
   "cell_type": "markdown",
   "metadata": {},
   "source": [
    "### 1. Import thư viện"
   ]
  },
  {
   "cell_type": "code",
   "execution_count": 2,
   "metadata": {},
   "outputs": [],
   "source": [
    "import json\n",
    "from collections import defaultdict"
   ]
  },
  {
   "cell_type": "markdown",
   "metadata": {},
   "source": [
    "### 2. Khai báo tên file"
   ]
  },
  {
   "cell_type": "code",
   "execution_count": 3,
   "metadata": {},
   "outputs": [],
   "source": [
    "champion_win_rate_file_name = r'D:\\Learning\\ML\\BTL\\preprocessing\\clean_data\\champion_win_rate.json'\n",
    "detail_matches_file_name = r'D:\\Learning\\ML\\BTL\\get_raw_data\\raw_data\\detail_match_full.json'"
   ]
  },
  {
   "cell_type": "markdown",
   "metadata": {},
   "source": [
    "### 3. Tính tỷ lệ thắng của mỗi tướng"
   ]
  },
  {
   "cell_type": "code",
   "execution_count": 4,
   "metadata": {},
   "outputs": [],
   "source": [
    "with open(detail_matches_file_name, 'r', encoding='utf-8') as file:\n",
    "    data = json.load(file)"
   ]
  },
  {
   "cell_type": "code",
   "execution_count": 24,
   "metadata": {},
   "outputs": [],
   "source": [
    "stats = defaultdict(lambda: {\n",
    "    'wins': 0, \n",
    "    'losses': 0, \n",
    "    'picks': 0, \n",
    "    'bans': 0\n",
    "})"
   ]
  },
  {
   "cell_type": "code",
   "execution_count": 25,
   "metadata": {},
   "outputs": [],
   "source": [
    "# Duyệt qua từng trận đấu và tính toán các chỉ số\n",
    "for match in data:\n",
    "    team_100_picks = match[\"team_100_picks\"]\n",
    "    team_200_picks = match[\"team_200_picks\"]\n",
    "    team_100_bans = match[\"team_100_bans\"]\n",
    "    team_200_bans = match[\"team_200_bans\"]\n",
    "    result = match[\"result\"]\n",
    "    \n",
    "    if result == 1:  # Team 100 thắng\n",
    "        for champion_id in team_100_picks:\n",
    "            stats[champion_id]['wins'] += 1\n",
    "        for champion_id in team_200_picks:\n",
    "            stats[champion_id]['losses'] += 1\n",
    "    elif result == -1:  # Team 200 thắng\n",
    "        for champion_id in team_100_picks:\n",
    "            stats[champion_id]['losses'] += 1\n",
    "        for champion_id in team_200_picks:\n",
    "            stats[champion_id]['wins'] += 1\n",
    "\n",
    "    # Cập nhật số trận được pick và bị ban cho mỗi ID\n",
    "    for pick in team_100_picks + team_200_picks:\n",
    "        stats[pick]['picks'] += 1\n",
    "    for ban in team_100_bans + team_200_bans:\n",
    "        if ban != -1:  # Giả sử ban có giá trị -1 là không có\n",
    "            stats[ban]['bans'] += 1\n",
    "\n",
    "# Tính toán tỷ lệ thắng\n",
    "for champion_id, stat in stats.items():\n",
    "    total_games = stat['wins'] + stat['losses']\n",
    "    total_picks = stat['picks']\n",
    "    total_bans = stat['bans']\n",
    "\n",
    "    # Tính tỷ lệ thắng\n",
    "    if total_games > 0:\n",
    "        stat['win_rate'] = round(stat['wins'] / total_games * 100, 2)\n",
    "    else:\n",
    "        stat['win_rate'] = 0.00\n",
    "    \n",
    "    # Tính tỷ lệ chọn\n",
    "    stat['pick_rate'] = round(total_picks / len(data) * 100, 2)\n",
    "\n",
    "    # Tính tỷ lệ bị cấm\n",
    "    stat['ban_rate'] = round(total_bans / len(data) * 100, 2)\n",
    "    \n",
    "result_dict = {champion_id: stat for champion_id, stat in sorted(stats.items())}\n"
   ]
  },
  {
   "cell_type": "code",
   "execution_count": 27,
   "metadata": {},
   "outputs": [],
   "source": [
    "with open(champion_win_rate_file_name, 'w', encoding='utf-8') as file:\n",
    "    json.dump(result_dict, file, ensure_ascii=False, indent=4)"
   ]
  },
  {
   "cell_type": "code",
   "execution_count": 28,
   "metadata": {},
   "outputs": [
    {
     "data": {
      "text/plain": [
       "169"
      ]
     },
     "execution_count": 28,
     "metadata": {},
     "output_type": "execute_result"
    }
   ],
   "source": [
    "len(result_dict)"
   ]
  }
 ],
 "metadata": {
  "kernelspec": {
   "display_name": "base",
   "language": "python",
   "name": "python3"
  },
  "language_info": {
   "codemirror_mode": {
    "name": "ipython",
    "version": 3
   },
   "file_extension": ".py",
   "mimetype": "text/x-python",
   "name": "python",
   "nbconvert_exporter": "python",
   "pygments_lexer": "ipython3",
   "version": "3.12.2"
  }
 },
 "nbformat": 4,
 "nbformat_minor": 2
}
