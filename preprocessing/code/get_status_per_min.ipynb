{
 "cells": [
  {
   "cell_type": "code",
   "execution_count": 1,
   "metadata": {},
   "outputs": [],
   "source": [
    "import numpy as np\n",
    "import pandas as pd\n",
    "import json\n",
    "import ijson"
   ]
  },
  {
   "cell_type": "code",
   "execution_count": 2,
   "metadata": {},
   "outputs": [],
   "source": [
    "# Đường dẫn của data\n",
    "file_name = r'D:\\Learning\\ML\\BTL\\get_raw_data\\raw_data\\total_match_timeline.json'\n",
    "status_per_min_file_name = r'D:\\Learning\\ML\\BTL\\preprocessing\\clean_data\\status_per_min.json'\n",
    "entries_win_rate_file_name = r'D:\\Learning\\ML\\BTL\\preprocessing\\clean_data\\entries_win_rate_at_next_match.json'\n",
    "champion_win_rate_file_name = r'D:\\Learning\\ML\\BTL\\preprocessing\\clean_data\\champion_win_rate.json'\n",
    "detail_match_file_name = r'D:\\Learning\\ML\\BTL\\get_raw_data\\raw_data\\detail_match_full.json'"
   ]
  },
  {
   "cell_type": "code",
   "execution_count": 3,
   "metadata": {},
   "outputs": [],
   "source": [
    "with open(entries_win_rate_file_name, encoding='utf-8') as file:\n",
    "    entries_win_rate = json.load(file)"
   ]
  },
  {
   "cell_type": "code",
   "execution_count": 4,
   "metadata": {},
   "outputs": [],
   "source": [
    "with open(champion_win_rate_file_name, encoding='utf-8') as file:\n",
    "    champions_win_rate = json.load(file)"
   ]
  },
  {
   "cell_type": "code",
   "execution_count": 5,
   "metadata": {},
   "outputs": [],
   "source": [
    "with open(detail_match_file_name, encoding='utf-8') as file:\n",
    "    detail_matches = json.load(file)"
   ]
  },
  {
   "cell_type": "code",
   "execution_count": 6,
   "metadata": {},
   "outputs": [],
   "source": [
    "# Hàm flatten dict\n",
    "def flatten_data(y):\n",
    "    out = {}\n",
    "\n",
    "    def flatten(x, name=''):\n",
    "        if type(x) is dict:\n",
    "            for a in x:\n",
    "                flatten(x[a], name + a + '_')\n",
    "        elif type(x) is list:\n",
    "            i = 0\n",
    "            for a in x:\n",
    "                flatten(a, name + str(i) + '_')\n",
    "                i += 1\n",
    "        else:\n",
    "            out[name[:-1]] = x\n",
    "\n",
    "    flatten(y)\n",
    "    return out"
   ]
  },
  {
   "cell_type": "markdown",
   "metadata": {},
   "source": [
    "### 1. Chênh lệch Lượng vàng chênh lệch giữa xanh và đỏ mỗi phút"
   ]
  },
  {
   "cell_type": "code",
   "execution_count": 7,
   "metadata": {},
   "outputs": [],
   "source": [
    "# Hàm tính lượng vàng chênh lệch giữa đội xanh và đỏ mỗi phút\n",
    "def get_gold_difference_between_blue_and_red_team_per_minute(frames):\n",
    "    gold_difference_df = {}\n",
    "    # Duyệt qua từng phút từ 0 đến 40\n",
    "    for minute in range(41):  # Bao gồm cả phút 40\n",
    "        if minute < len(frames):  # Nếu frame tồn tại\n",
    "            frame = frames[minute]\n",
    "            total_gold_blue = 0\n",
    "            total_gold_red = 0\n",
    "\n",
    "            # Duyệt qua từng người chơi trong frame\n",
    "            for participant_id, data in frame[\"participantFrames\"].items():\n",
    "                participant_id = int(participant_id)\n",
    "                total_gold = data.get(\"totalGold\", 0)  # Lấy giá trị, mặc định là 0 nếu không tồn tại\n",
    "                \n",
    "                if 1 <= participant_id <= 5:  # Đội xanh\n",
    "                    total_gold_blue += total_gold\n",
    "                elif 6 <= participant_id <= 10:  # Đội đỏ\n",
    "                    total_gold_red += total_gold\n",
    "\n",
    "            # Tính chênh lệch vàng\n",
    "            gold_difference_df[f\"gold_difference_at_{minute}\"] = total_gold_blue - total_gold_red\n",
    "        else:\n",
    "            # Gán giá trị None nếu không có dữ liệu tại phút này\n",
    "            gold_difference_df[f\"gold_difference_at_{minute}\"] = None\n",
    "\n",
    "    return gold_difference_df\n"
   ]
  },
  {
   "cell_type": "markdown",
   "metadata": {},
   "source": [
    "### 2. Trạng thái trụ mỗi đội, mỗi loại, mỗi phút"
   ]
  },
  {
   "cell_type": "code",
   "execution_count": 8,
   "metadata": {},
   "outputs": [],
   "source": [
    "# Hàm trạng thái trụ mỗi đội, mỗi loại, mỗi phút\n",
    "def calculate_turret_status(frames):\n",
    "    initial_turrets = {\n",
    "        \"blue\": {\n",
    "            \"MID_LANE\": {\"INNER_TURRET\": 1, \"OUTER_TURRET\": 1, \"BASE_TURRET\": 1, \"NEXUS_TURRET\": 2},\n",
    "            \"TOP_LANE\": {\"INNER_TURRET\": 1, \"OUTER_TURRET\": 1, \"BASE_TURRET\": 1},\n",
    "            \"BOT_LANE\": {\"INNER_TURRET\": 1, \"OUTER_TURRET\": 1, \"BASE_TURRET\": 1},\n",
    "        },\n",
    "        \"red\": {\n",
    "            \"MID_LANE\": {\"INNER_TURRET\": 1, \"OUTER_TURRET\": 1, \"BASE_TURRET\": 1, \"NEXUS_TURRET\": 2},\n",
    "            \"TOP_LANE\": {\"INNER_TURRET\": 1, \"OUTER_TURRET\": 1, \"BASE_TURRET\": 1},\n",
    "            \"BOT_LANE\": {\"INNER_TURRET\": 1, \"OUTER_TURRET\": 1, \"BASE_TURRET\": 1},\n",
    "        }\n",
    "    }\n",
    "\n",
    "    # Kết quả lưu trạng thái trụ theo từng phút\n",
    "    turret_status = {}\n",
    "\n",
    "\n",
    "    # Duyệt qua từng frame (mỗi frame là 1 phút)\n",
    "    for minute in range(41):  # Bao gồm cả phút 40\n",
    "        if minute < len(frames):  # Nếu frame tồn tại\n",
    "            frame = frames[minute]\n",
    "\n",
    "            # Duyệt qua các lane và các loại trụ để sao chép trạng thái ban đầu cho phút đầu tiên\n",
    "            for team in [\"blue\", \"red\"]:\n",
    "                for lane, turrets in initial_turrets[team].items():\n",
    "                    for tower_type, count in turrets.items():\n",
    "                        # Cập nhật trạng thái trụ cho phút hiện tại\n",
    "                        key = f\"{team}_{lane}_{tower_type}_at_{minute}\"\n",
    "                        turret_status[key] = count\n",
    "\n",
    "            # Lấy danh sách sự kiện trong frame\n",
    "            events = frame.get(\"events\", [])\n",
    "            for event in events:\n",
    "                # Kiểm tra nếu sự kiện là phá hủy trụ\n",
    "                if event.get(\"type\") == \"BUILDING_KILL\" and event.get(\"towerType\") and event.get(\"laneType\"):\n",
    "                    team_id = event.get(\"teamId\")\n",
    "                    tower_type = event.get(\"towerType\")\n",
    "                    lane_type = event.get(\"laneType\")\n",
    "\n",
    "                    # Xác định đội (100 = blue, 200 = red)\n",
    "                    team = \"blue\" if team_id == 100 else \"red\"\n",
    "\n",
    "                    # Xác định key cho trụ bị phá hủy\n",
    "                    key = f\"{team}_{lane_type}_{tower_type}_at_{minute}\"\n",
    "\n",
    "                    # Giảm số lượng trụ trong lane và loại trụ tương ứng\n",
    "                    if key in turret_status:\n",
    "                        turret_status[key] -= 1\n",
    "                        initial_turrets[team][lane_type][tower_type] -= 1\n",
    "        else:\n",
    "            for team in [\"blue\", \"red\"]:\n",
    "                for lane, turrets in initial_turrets[team].items():\n",
    "                    for tower_type, count in turrets.items():\n",
    "                        # Cập nhật trạng thái trụ cho phút hiện tại\n",
    "                        key = f\"{team}_{lane}_{tower_type}_at_{minute}\"\n",
    "                        turret_status[key] = count\n",
    "    return turret_status\n"
   ]
  },
  {
   "cell_type": "markdown",
   "metadata": {},
   "source": [
    "### 3. Chênh lệch cấp độ mỗi đường, mỗi phút"
   ]
  },
  {
   "cell_type": "code",
   "execution_count": 9,
   "metadata": {},
   "outputs": [],
   "source": [
    "# Hàm tính chênh lệch cấp độ mỗi đường giữa xanh và đỏ mỗi phút\n",
    "def calculate_level_difference_by_lane(frames):\n",
    "    # Lưu trữ chênh lệch cấp độ mỗi đường, mỗi phút\n",
    "    level_diff = {}\n",
    "\n",
    "    # Định nghĩa các participantId cho các đường\n",
    "    lane_participants = {\n",
    "        \"TOP\": [1, 6],\n",
    "        \"JUNGLE\": [2, 7],\n",
    "        \"MID\": [3, 8],\n",
    "        \"BOT\": [4, 9],\n",
    "        \"SUPPORT\": [5, 10]\n",
    "    }\n",
    "\n",
    "    # Duyệt qua từng phút từ 0 đến 40\n",
    "    for minute in range(41):  # Bao gồm cả phút 40\n",
    "        if minute < len(frames):  # Nếu frame tồn tại\n",
    "            frame = frames[minute]\n",
    "            blue_team_levels = []\n",
    "            red_team_levels = []\n",
    "            for participantFrameID, participantFrame in frame[\"participantFrames\"].items():\n",
    "                participant_id = participantFrame.get(\"participantId\")\n",
    "                level = participantFrame.get(\"level\")\n",
    "                # Xác định đội (100 = blue, 200 = red)\n",
    "                if participant_id <= 5:  # Đội xanh\n",
    "                    blue_team_levels.append(level)\n",
    "                else:  # Đội đỏ\n",
    "                    red_team_levels.append(level)\n",
    "\n",
    "            # Lưu trữ cấp độ của các người chơi trong từng đường\n",
    "            for lane, participants in lane_participants.items():\n",
    "                key = f\"level_difference_{lane}_at_{minute}\"  # minute + 1 vì phút bắt đầu từ 0\n",
    "                level_diff[key] = blue_team_levels[participants[0] - 1] - red_team_levels[participants[1] - 6]\n",
    "        else:  # Nếu frame không tồn tại (vượt quá thời lượng trận đấu)\n",
    "            for lane in lane_participants.keys():\n",
    "                key = f\"level_difference_{lane}_at_{minute}\"\n",
    "                level_diff[key] = None\n",
    "    return level_diff\n"
   ]
  },
  {
   "cell_type": "markdown",
   "metadata": {},
   "source": [
    "### 4. Trạng thái quái khủng, mỗi đội, mỗi phút"
   ]
  },
  {
   "cell_type": "code",
   "execution_count": 10,
   "metadata": {},
   "outputs": [],
   "source": [
    "# Hàm tính chênh lệch quái khủng mỗi loại, mỗi phút giữa đội xanh và đỏ\n",
    "def calculate_elite_monster_diff(frames):\n",
    "    # Khởi tạo trạng thái chênh lệch quái khủng ban đầu\n",
    "    initial_elite_monster_diff = {\n",
    "        \"HORDE\": 0,\n",
    "        \"RIFTHERALD\": 0,\n",
    "        \"FIRE_DRAGON\": 0,\n",
    "        \"WATER_DRAGON\": 0,\n",
    "        \"EARTH_DRAGON\": 0,\n",
    "        \"AIR_DRAGON\": 0,\n",
    "        \"CHEMTECH_DRAGON\": 0,\n",
    "        \"HEXTECH_DRAGON\": 0,\n",
    "        \"ELDER_DRAGON\": 0,\n",
    "        \"BARON_NASHOR\": 0\n",
    "    }\n",
    "\n",
    "    # Kết quả lưu trạng thái quái khủng theo từng phút\n",
    "    elite_monster_status = {}\n",
    "\n",
    "    # Duyệt qua từng phút từ 0 đến 40\n",
    "    for minute in range(41):  # Bao gồm cả phút 40\n",
    "        if minute < len(frames):  # Nếu frame tồn tại\n",
    "            frame = frames[minute]\n",
    "\n",
    "            # Lưu trạng thái quái khủng hiện tại cho phút này\n",
    "            for monster_type in initial_elite_monster_diff.keys():\n",
    "                key = f\"{monster_type}_diff_at_{minute}\"\n",
    "                elite_monster_status[key] = initial_elite_monster_diff[monster_type]\n",
    "\n",
    "            # Lấy danh sách sự kiện trong frame\n",
    "            events = frame.get(\"events\", [])\n",
    "\n",
    "            for event in events:\n",
    "                # Kiểm tra nếu sự kiện là ăn quái\n",
    "                if event.get(\"type\") == \"ELITE_MONSTER_KILL\":\n",
    "                    team_id = event.get(\"killerTeamId\")\n",
    "\n",
    "                    # Xác định đội (100 = blue, 200 = red)\n",
    "                    team = \"blue\" if team_id == 100 else \"red\"\n",
    "\n",
    "                    monster_type = event.get(\"monsterType\", \"\")\n",
    "                    sub_monster_type = event.get(\"monsterSubType\", \"\")\n",
    "\n",
    "                    if monster_type == \"DRAGON\":\n",
    "                        if sub_monster_type:\n",
    "                            # Xử lý chênh lệch theo loại rồng\n",
    "                            key = f\"{sub_monster_type}_diff_at_{minute}\"\n",
    "                            if team == \"blue\":\n",
    "                                initial_elite_monster_diff[sub_monster_type] += 1\n",
    "                            else:\n",
    "                                initial_elite_monster_diff[sub_monster_type] -= 1\n",
    "                            elite_monster_status[key] = initial_elite_monster_diff[sub_monster_type]\n",
    "                    else:\n",
    "                        # Xử lý chênh lệch cho quái khủng không phải rồng\n",
    "                        key = f\"{monster_type}_diff_at_{minute}\"\n",
    "                        if team == \"blue\":\n",
    "                            initial_elite_monster_diff[monster_type] += 1\n",
    "                        else:\n",
    "                            initial_elite_monster_diff[monster_type] -= 1\n",
    "                        elite_monster_status[key] = initial_elite_monster_diff[monster_type]\n",
    "        else:\n",
    "            # Nếu không có frame tại phút này, gán trạng thái hiện tại\n",
    "            for monster_type, count in initial_elite_monster_diff.items():\n",
    "                key = f\"{monster_type}_diff_at_{minute}\"\n",
    "                elite_monster_status[key] = count\n",
    "\n",
    "    return elite_monster_status"
   ]
  },
  {
   "cell_type": "markdown",
   "metadata": {},
   "source": [
    "### 5. Tỷ lệ thắng của người chơi mỗi đường, mỗi đội"
   ]
  },
  {
   "cell_type": "code",
   "execution_count": 11,
   "metadata": {},
   "outputs": [],
   "source": [
    "def get_entry_win_rate_at_next_match(participants):\n",
    "    entry_win_rate_at_next_match = {}\n",
    "    for participant in participants:\n",
    "        participantID = participant['participantId']\n",
    "        puuid = participant['puuid']\n",
    "        team = 'blue' if participantID <= 5 else 'red'\n",
    "        if participantID == 1 or participantID == 6:\n",
    "            lane = 'TOP'\n",
    "        elif participantID == 2 or participantID == 7:\n",
    "            lane = 'JUNGLE'\n",
    "        elif participantID == 3 or participantID == 8:\n",
    "            lane = 'MID'\n",
    "        elif participantID == 4 or participantID == 9:\n",
    "            lane = 'BOT'\n",
    "        elif participantID == 5 or participantID == 10:\n",
    "            lane = 'SUPPORT'\n",
    "        key = f\"{team}_{lane}_win_rate\"\n",
    "        entry_win_rate_at_next_match[key] = entries_win_rate[puuid] if puuid in entries_win_rate.keys() else 50.00\n",
    "    return entry_win_rate_at_next_match"
   ]
  },
  {
   "cell_type": "markdown",
   "metadata": {},
   "source": [
    "### 6. Tỷ lệ thắng của tướng mỗi đường mỗi đội"
   ]
  },
  {
   "cell_type": "code",
   "execution_count": 12,
   "metadata": {},
   "outputs": [],
   "source": [
    "def get_champion_win_rate(detail_match):\n",
    "    champion_win_rate = {}\n",
    "    champion_picks = detail_match['team_100_picks'] + detail_match['team_200_picks']\n",
    "    team = ''\n",
    "    lane = ''\n",
    "    for i in range(len(champion_picks)):\n",
    "        championID = champion_picks[i]\n",
    "        team = 'blue' if i <= 4 else 'red'\n",
    "        if i == 0 or i == 5:\n",
    "            lane = 'TOP'\n",
    "        elif i == 1 or i == 6:\n",
    "            lane = 'JUNGLE'\n",
    "        elif i == 2 or i == 7:\n",
    "            lane = 'MID'\n",
    "        elif i == 3 or i == 8:\n",
    "            lane = 'BOT'\n",
    "        elif i == 4 or i == 9:\n",
    "            lane = 'SUPPORT'\n",
    "        key = f\"{team}_{lane}_CHAMPION_win_rate\"\n",
    "        champion_win_rate[key] = champions_win_rate[str(championID)]['win_rate']\n",
    "    return champion_win_rate"
   ]
  },
  {
   "cell_type": "markdown",
   "metadata": {},
   "source": [
    "### 7. Lấy nhãn dữ liệu"
   ]
  },
  {
   "cell_type": "code",
   "execution_count": 13,
   "metadata": {},
   "outputs": [],
   "source": [
    "def get_label(detail_match):\n",
    "    return {'label' : detail_match['result']}"
   ]
  },
  {
   "cell_type": "markdown",
   "metadata": {},
   "source": [
    "### Mở file và ghi dữ liệu"
   ]
  },
  {
   "cell_type": "code",
   "execution_count": 14,
   "metadata": {},
   "outputs": [],
   "source": [
    "status_per_min = []"
   ]
  },
  {
   "cell_type": "code",
   "execution_count": 15,
   "metadata": {},
   "outputs": [],
   "source": [
    "count = 0\n",
    "with open(file_name, 'r', encoding='utf-8') as file:\n",
    "    # Sử dụng ijson để tạo một iterator trên danh sách trong JSON\n",
    "    objects = ijson.items(file, 'item')  # 'item' tương ứng với từng phần tử trong danh sách gốc\n",
    "    \n",
    "    for obj in objects:\n",
    "        # Mỗi `obj` là một dict chứa 'frames' và 'participant'\n",
    "        frames = obj.get('frames', None)\n",
    "        participant = obj.get('participants', None)\n",
    "\n",
    "        # Các phép tính và truy vấn thông tin cần thiết\n",
    "        monster_status_per_min = calculate_elite_monster_diff(frames)\n",
    "        gold_difference_per_min = get_gold_difference_between_blue_and_red_team_per_minute(frames)\n",
    "        turret_status_per_min = calculate_turret_status(frames)\n",
    "        level_status_per_min = calculate_level_difference_by_lane(frames)\n",
    "        entry_win_rate_at_next_match = get_entry_win_rate_at_next_match(participant)\n",
    "        champion_win_rate = get_champion_win_rate(detail_matches[count])\n",
    "        label = get_label(detail_matches[count])\n",
    "        count += 1\n",
    "\n",
    "        # Cập nhật trạng thái và tính toán giá trị\n",
    "        tmp_status_per_min = {}\n",
    "        tmp_status_per_min.update(**entry_win_rate_at_next_match, **champion_win_rate, \n",
    "                                  **level_status_per_min, **turret_status_per_min, \n",
    "                                  **gold_difference_per_min, **monster_status_per_min, **label)\n",
    "        \n",
    "        status_per_min.append(tmp_status_per_min)"
   ]
  },
  {
   "cell_type": "code",
   "execution_count": 16,
   "metadata": {},
   "outputs": [
    {
     "data": {
      "text/plain": [
       "21483"
      ]
     },
     "execution_count": 16,
     "metadata": {},
     "output_type": "execute_result"
    }
   ],
   "source": [
    "len(status_per_min)"
   ]
  },
  {
   "cell_type": "code",
   "execution_count": 17,
   "metadata": {},
   "outputs": [],
   "source": [
    "with open(status_per_min_file_name, 'w', encoding='utf-8') as file:\n",
    "    json.dump(status_per_min, file, ensure_ascii=False, indent=4)"
   ]
  },
  {
   "cell_type": "code",
   "execution_count": null,
   "metadata": {},
   "outputs": [],
   "source": []
  }
 ],
 "metadata": {
  "kernelspec": {
   "display_name": "base",
   "language": "python",
   "name": "python3"
  },
  "language_info": {
   "codemirror_mode": {
    "name": "ipython",
    "version": 3
   },
   "file_extension": ".py",
   "mimetype": "text/x-python",
   "name": "python",
   "nbconvert_exporter": "python",
   "pygments_lexer": "ipython3",
   "version": "3.12.2"
  }
 },
 "nbformat": 4,
 "nbformat_minor": 4
}
