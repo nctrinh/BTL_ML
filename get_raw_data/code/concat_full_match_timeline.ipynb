{
 "cells": [
  {
   "cell_type": "code",
   "execution_count": 7,
   "metadata": {},
   "outputs": [],
   "source": [
    "import json\n",
    "import ijson"
   ]
  },
  {
   "cell_type": "code",
   "execution_count": 8,
   "metadata": {},
   "outputs": [],
   "source": [
    "empty_file = r'D:\\Learning\\ML\\BTL\\get_raw_data\\raw_data\\total_match_timeline.json'\n",
    "files_to_merge = [\n",
    "    r'D:\\Learning\\ML\\BTL\\get_raw_data\\raw_data\\match_timeline_full.json',\n",
    "    r'D:\\Learning\\ML\\BTL\\get_raw_data\\raw_data\\match_timeline_full\\match_timeline_full.json',\n",
    "    r'D:\\Learning\\ML\\BTL\\get_raw_data\\raw_data\\sample\\match_timeline_full.json'\n",
    "]"
   ]
  },
  {
   "cell_type": "code",
   "execution_count": 9,
   "metadata": {},
   "outputs": [],
   "source": [
    "# Danh sách tạm thời để ghi vào file cuối cùng\n",
    "result_file = open(empty_file, 'w', encoding='utf-8')\n",
    "result_file.write('[\\n')  # Bắt đầu danh sách JSON\n",
    "\n",
    "# Đọc từng file JSON lớn và ghi từng dict vào file rỗng\n",
    "is_first_item = True"
   ]
  },
  {
   "cell_type": "code",
   "execution_count": 10,
   "metadata": {},
   "outputs": [],
   "source": [
    "count = 0\n",
    "empty_dict_count = 0 "
   ]
  },
  {
   "cell_type": "code",
   "execution_count": 11,
   "metadata": {},
   "outputs": [],
   "source": [
    "for file_path in files_to_merge:\n",
    "    try:\n",
    "        with open(file_path, 'r', encoding='utf-8') as infile:\n",
    "            # Dùng ijson để đọc từng object trong danh sách JSON\n",
    "            for obj in ijson.items(infile, 'item'):\n",
    "                if not is_first_item:\n",
    "                    result_file.write(',\\n')  # Thêm dấu phẩy giữa các object\n",
    "                json.dump(obj, result_file, ensure_ascii=False, indent=4)\n",
    "                count += 1\n",
    "                is_first_item = False\n",
    "    except Exception as e:\n",
    "        print(f\"Lỗi khi xử lý file {file_path}: {e}\")\n",
    "\n",
    "# Kết thúc danh sách JSON\n",
    "result_file.write('\\n]')\n",
    "result_file.close()"
   ]
  },
  {
   "cell_type": "code",
   "execution_count": 12,
   "metadata": {},
   "outputs": [
    {
     "data": {
      "text/plain": [
       "21483"
      ]
     },
     "execution_count": 12,
     "metadata": {},
     "output_type": "execute_result"
    }
   ],
   "source": [
    "count"
   ]
  },
  {
   "cell_type": "code",
   "execution_count": 13,
   "metadata": {},
   "outputs": [
    {
     "data": {
      "text/plain": [
       "0"
      ]
     },
     "execution_count": 13,
     "metadata": {},
     "output_type": "execute_result"
    }
   ],
   "source": [
    "empty_dict_count"
   ]
  },
  {
   "cell_type": "code",
   "execution_count": null,
   "metadata": {},
   "outputs": [],
   "source": []
  }
 ],
 "metadata": {
  "kernelspec": {
   "display_name": "base",
   "language": "python",
   "name": "python3"
  },
  "language_info": {
   "codemirror_mode": {
    "name": "ipython",
    "version": 3
   },
   "file_extension": ".py",
   "mimetype": "text/x-python",
   "name": "python",
   "nbconvert_exporter": "python",
   "pygments_lexer": "ipython3",
   "version": "3.12.2"
  }
 },
 "nbformat": 4,
 "nbformat_minor": 4
}
