{
 "cells": [
  {
   "cell_type": "markdown",
   "metadata": {},
   "source": [
    "### 1. Import thư viện"
   ]
  },
  {
   "cell_type": "code",
   "execution_count": 119,
   "metadata": {},
   "outputs": [],
   "source": [
    "import requests\n",
    "import json\n",
    "from time import sleep"
   ]
  },
  {
   "cell_type": "markdown",
   "metadata": {},
   "source": [
    "### 2. Khai báo tên file"
   ]
  },
  {
   "cell_type": "code",
   "execution_count": 120,
   "metadata": {},
   "outputs": [],
   "source": [
    "entries_file_name = r'D:\\Learning\\ML\\BTL\\get_raw_data\\raw_data\\entries.json'\n",
    "matchID_full_file_name = r'D:\\Learning\\ML\\BTL\\get_raw_data\\raw_data\\matchID_full.json'\n",
    "puuid_full_file_name = r'D:\\Learning\\ML\\BTL\\get_raw_data\\raw_data\\puuid_full.json'"
   ]
  },
  {
   "cell_type": "code",
   "execution_count": 121,
   "metadata": {},
   "outputs": [],
   "source": [
    "headers = {\n",
    "    \"User-Agent\": \"Mozilla/5.0 (Windows NT 10.0; Win64; x64) AppleWebKit/537.36 (KHTML, like Gecko) Chrome/131.0.0.0 Safari/537.36 Edg/131.0.0.0\",\n",
    "    \"Accept-Language\": \"vi,en;q=0.9,en-GB;q=0.8,en-US;q=0.7\",\n",
    "    \"Accept-Charset\": \"application/x-www-form-urlencoded; charset=UTF-8\",\n",
    "    \"Origin\": \"https://developer.riotgames.com\"\n",
    "}"
   ]
  },
  {
   "cell_type": "code",
   "execution_count": 122,
   "metadata": {},
   "outputs": [],
   "source": [
    "api_key = 'RGAPI-ffe374bf-3391-4fcf-971a-eb8eb4a69a4f'"
   ]
  },
  {
   "cell_type": "markdown",
   "metadata": {},
   "source": [
    "### 3. puuID của tất cả người chơi"
   ]
  },
  {
   "cell_type": "code",
   "execution_count": 123,
   "metadata": {},
   "outputs": [],
   "source": [
    "with open(entries_file_name, 'r', encoding='utf-8') as file:\n",
    "    entries = json.load(file)"
   ]
  },
  {
   "cell_type": "code",
   "execution_count": 124,
   "metadata": {},
   "outputs": [],
   "source": [
    "summonerIds = []\n",
    "for entry in entries[:]:\n",
    "    summonerIds.append(entry[\"summonerId\"])"
   ]
  },
  {
   "cell_type": "code",
   "execution_count": 125,
   "metadata": {},
   "outputs": [],
   "source": [
    "def get_puuid(entries, api_key, headers):    \n",
    "    puuids = []\n",
    "    base_url = 'https://kr.api.riotgames.com/lol/summoner/v4/summoners/'\n",
    "    for summonerId in summonerIds[:]:\n",
    "        while True:\n",
    "            url = base_url + summonerId + '?api_key=' + api_key\n",
    "            response = requests.get(url, headers=headers)\n",
    "            if response.status_code == 200:\n",
    "                data = response.json()  \n",
    "                puuids.append(data[\"puuid\"])\n",
    "                summonerIds.remove(summonerId)\n",
    "                break\n",
    "            elif response.status_code == 429:\n",
    "                print(len(puuids))\n",
    "                sleep(20)\n",
    "            else:\n",
    "                break\n",
    "    return puuids"
   ]
  },
  {
   "cell_type": "code",
   "execution_count": 126,
   "metadata": {},
   "outputs": [
    {
     "name": "stdout",
     "output_type": "stream",
     "text": [
      "90\n",
      "190\n",
      "190\n",
      "190\n",
      "290\n",
      "290\n",
      "290\n",
      "390\n",
      "390\n",
      "390\n",
      "490\n",
      "490\n",
      "490\n",
      "590\n",
      "590\n",
      "590\n",
      "690\n",
      "690\n",
      "690\n",
      "790\n",
      "790\n",
      "790\n",
      "890\n",
      "890\n",
      "890\n",
      "990\n",
      "990\n",
      "990\n",
      "1090\n",
      "1090\n",
      "1090\n",
      "1190\n",
      "1190\n",
      "1190\n",
      "1290\n",
      "1290\n",
      "1290\n",
      "1390\n",
      "1390\n",
      "1390\n",
      "1490\n",
      "1490\n",
      "1490\n",
      "1590\n",
      "1590\n",
      "1590\n",
      "1690\n",
      "1690\n",
      "1690\n",
      "1790\n",
      "1790\n",
      "1790\n",
      "1890\n",
      "1890\n",
      "1890\n",
      "1990\n",
      "1990\n",
      "1990\n",
      "2090\n",
      "2090\n",
      "2090\n",
      "2190\n",
      "2190\n",
      "2190\n",
      "2290\n",
      "2290\n",
      "2290\n",
      "2390\n",
      "2390\n",
      "2390\n",
      "2490\n",
      "2490\n",
      "2490\n",
      "2590\n",
      "2590\n",
      "2590\n",
      "2690\n",
      "2690\n",
      "2690\n",
      "2790\n",
      "2790\n",
      "2790\n",
      "2890\n",
      "2890\n",
      "2890\n",
      "2990\n",
      "2990\n",
      "2990\n",
      "3090\n",
      "3090\n",
      "3090\n",
      "3190\n",
      "3190\n",
      "3190\n",
      "3290\n",
      "3290\n",
      "3290\n",
      "3390\n",
      "3390\n",
      "3390\n",
      "3490\n",
      "3490\n",
      "3490\n",
      "3590\n",
      "3590\n",
      "3590\n",
      "3690\n",
      "3690\n",
      "3690\n",
      "3790\n",
      "3790\n",
      "3790\n",
      "3890\n",
      "3890\n",
      "3890\n",
      "3990\n",
      "3990\n",
      "3990\n",
      "4090\n",
      "4090\n",
      "4090\n",
      "4190\n",
      "4190\n",
      "4190\n",
      "4290\n",
      "4290\n",
      "4290\n",
      "4390\n",
      "4390\n",
      "4390\n",
      "4490\n",
      "4490\n",
      "4490\n",
      "4590\n",
      "4590\n",
      "4690\n",
      "4690\n",
      "4790\n",
      "4790\n",
      "4890\n",
      "4890\n",
      "4890\n",
      "4990\n",
      "4990\n",
      "4990\n"
     ]
    }
   ],
   "source": [
    "puuIDs = get_puuid(entries, api_key, headers)"
   ]
  },
  {
   "cell_type": "code",
   "execution_count": 127,
   "metadata": {},
   "outputs": [
    {
     "data": {
      "text/plain": [
       "5017"
      ]
     },
     "execution_count": 127,
     "metadata": {},
     "output_type": "execute_result"
    }
   ],
   "source": [
    "len(puuIDs)"
   ]
  },
  {
   "cell_type": "code",
   "execution_count": 128,
   "metadata": {},
   "outputs": [],
   "source": [
    "# Ghi dữ liệu\n",
    "with open(puuid_full_file_name, 'w', encoding='utf-8') as file:\n",
    "    json.dump(puuIDs, file, ensure_ascii=False, indent=4)"
   ]
  },
  {
   "cell_type": "markdown",
   "metadata": {},
   "source": [
    "### 4. MatchID của tất cả người chơi, mỗi người 200 trận"
   ]
  },
  {
   "cell_type": "code",
   "execution_count": null,
   "metadata": {},
   "outputs": [],
   "source": [
    "def get_matchIDs(api_key, headers, puuIDs):\n",
    "    base_url = 'https://asia.api.riotgames.com/lol/match/v5/matches/by-puuid/'\n",
    "    matchIDs = set()\n",
    "    for puuID in puuIDs[:]:\n",
    "        while True:\n",
    "            url = base_url + puuID + '/ids?start=0&count=20&api_key=' + api_key\n",
    "            response = requests.get(url, headers=headers)     \n",
    "            if response.status_code == 200:\n",
    "                data = response.json() \n",
    "                matchIDs.update(data)\n",
    "                puuIDs.remove(puuID)\n",
    "                break\n",
    "            elif response.status_code == 429:\n",
    "                print(len(matchIDs))\n",
    "                sleep(20)\n",
    "            else:\n",
    "                print('Wrong')\n",
    "                break\n",
    "    return list(matchIDs)"
   ]
  },
  {
   "cell_type": "code",
   "execution_count": 130,
   "metadata": {},
   "outputs": [
    {
     "name": "stdout",
     "output_type": "stream",
     "text": [
      "1913\n",
      "1913\n",
      "1913\n",
      "3719\n",
      "3719\n",
      "5479\n",
      "5479\n",
      "5479\n",
      "7089\n",
      "7089\n",
      "7089\n",
      "8764\n",
      "8764\n",
      "8764\n",
      "10448\n",
      "10448\n",
      "10448\n",
      "12046\n",
      "12046\n",
      "12046\n",
      "13598\n",
      "13598\n",
      "13598\n",
      "15163\n",
      "15163\n",
      "16830\n",
      "16830\n",
      "16830\n",
      "18334\n",
      "18334\n",
      "18334\n",
      "19838\n",
      "19838\n",
      "19838\n",
      "21416\n",
      "21416\n",
      "21416\n",
      "22955\n",
      "22955\n",
      "22955\n",
      "24488\n",
      "24488\n",
      "24488\n",
      "26077\n",
      "26077\n",
      "27631\n",
      "27631\n",
      "29088\n",
      "29088\n",
      "30581\n",
      "30581\n",
      "32111\n",
      "32111\n",
      "32111\n",
      "33605\n",
      "33605\n",
      "35061\n",
      "35061\n",
      "36599\n",
      "36599\n",
      "38025\n",
      "38025\n",
      "39595\n",
      "39595\n",
      "40940\n",
      "40940\n",
      "42400\n",
      "42400\n",
      "43879\n",
      "43879\n",
      "45321\n",
      "45321\n",
      "46841\n",
      "46841\n",
      "48225\n",
      "48225\n",
      "49676\n",
      "49676\n",
      "51208\n",
      "51208\n",
      "51208\n",
      "52604\n",
      "52604\n",
      "54048\n",
      "54048\n",
      "55510\n",
      "55510\n",
      "56967\n",
      "56967\n",
      "58428\n",
      "58428\n",
      "59877\n",
      "59877\n",
      "61252\n",
      "61252\n",
      "62732\n",
      "62732\n",
      "64277\n",
      "64277\n",
      "65793\n",
      "65793\n",
      "67339\n",
      "67339\n",
      "68791\n",
      "68791\n",
      "70236\n",
      "70236\n",
      "71683\n",
      "71683\n",
      "73132\n",
      "73132\n",
      "74557\n",
      "74557\n",
      "76100\n",
      "76100\n"
     ]
    }
   ],
   "source": [
    "matchIDs = get_matchIDs(api_key, headers, puuIDs)"
   ]
  },
  {
   "cell_type": "code",
   "execution_count": 131,
   "metadata": {},
   "outputs": [
    {
     "data": {
      "text/plain": [
       "76387"
      ]
     },
     "execution_count": 131,
     "metadata": {},
     "output_type": "execute_result"
    }
   ],
   "source": [
    "len(matchIDs)"
   ]
  },
  {
   "cell_type": "code",
   "execution_count": 132,
   "metadata": {},
   "outputs": [],
   "source": [
    "# Ghi dữ liệu\n",
    "with open(matchID_full_file_name, 'w', encoding='utf-8') as file:\n",
    "    json.dump(matchIDs, file, ensure_ascii=False, indent=4)"
   ]
  }
 ],
 "metadata": {
  "kernelspec": {
   "display_name": "base",
   "language": "python",
   "name": "python3"
  },
  "language_info": {
   "codemirror_mode": {
    "name": "ipython",
    "version": 3
   },
   "file_extension": ".py",
   "mimetype": "text/x-python",
   "name": "python",
   "nbconvert_exporter": "python",
   "pygments_lexer": "ipython3",
   "version": "3.12.2"
  }
 },
 "nbformat": 4,
 "nbformat_minor": 2
}
