{
 "cells": [
  {
   "cell_type": "markdown",
   "metadata": {},
   "source": [
    "### 1. Import thư viện"
   ]
  },
  {
   "cell_type": "code",
   "execution_count": 50,
   "metadata": {},
   "outputs": [],
   "source": [
    "import requests\n",
    "import json"
   ]
  },
  {
   "cell_type": "markdown",
   "metadata": {},
   "source": [
    "### 2. Khai báo tên file"
   ]
  },
  {
   "cell_type": "code",
   "execution_count": 1,
   "metadata": {},
   "outputs": [],
   "source": [
    "entries_file_name = r'D:\\Learning\\ML\\BTL\\get_raw_data\\raw_data\\entries.json'\n",
    "puuids_of_100_player_having_most_matches_file_name = r'D:\\Learning\\ML\\BTL\\get_raw_data\\raw_data\\puuid.json'"
   ]
  },
  {
   "cell_type": "markdown",
   "metadata": {},
   "source": [
    "### 3. Khai báo Header và API key cho Request"
   ]
  },
  {
   "cell_type": "code",
   "execution_count": 63,
   "metadata": {},
   "outputs": [],
   "source": [
    "headers = {\n",
    "    \"User-Agent\": \"Mozilla/5.0 (Windows NT 10.0; Win64; x64) AppleWebKit/537.36 (KHTML, like Gecko) Chrome/131.0.0.0 Safari/537.36 Edg/131.0.0.0\",\n",
    "    \"Accept-Language\": \"vi,en;q=0.9,en-GB;q=0.8,en-US;q=0.7\",\n",
    "    \"Accept-Charset\": \"application/x-www-form-urlencoded; charset=UTF-8\",\n",
    "    \"Origin\": \"https://developer.riotgames.com\"\n",
    "}"
   ]
  },
  {
   "cell_type": "code",
   "execution_count": 99,
   "metadata": {},
   "outputs": [],
   "source": [
    "api_key = 'RGAPI-535f85d1-32bf-4ba4-8c93-42a86252bd19'"
   ]
  },
  {
   "cell_type": "markdown",
   "metadata": {},
   "source": [
    "### 4. Danh sách người chơi sở rank Kim Cương 1"
   ]
  },
  {
   "cell_type": "code",
   "execution_count": null,
   "metadata": {},
   "outputs": [],
   "source": [
    "def get_Entries(api_key, headers):\n",
    "    entries = []\n",
    "    base_url = 'https://kr.api.riotgames.com/lol/league/v4/entries/RANKED_SOLO_5x5/DIAMOND/I'\n",
    "    for i in range(26):\n",
    "        url = base_url + '?page=' + str(i) + '&api_key=' + api_key\n",
    "        response = requests.get(url, headers=headers)     \n",
    "        data = response.json()      \n",
    "        entries.extend(data)\n",
    "    return entries"
   ]
  },
  {
   "cell_type": "code",
   "execution_count": null,
   "metadata": {},
   "outputs": [],
   "source": [
    "entries = get_Entries(api_key, headers)"
   ]
  },
  {
   "cell_type": "code",
   "execution_count": 83,
   "metadata": {},
   "outputs": [],
   "source": [
    "# Thêm tỷ lệ thắng cho mỗi entry\n",
    "for player in entries:\n",
    "    if isinstance(player, dict):\n",
    "        total_games = player[\"wins\"] + player[\"losses\"]\n",
    "        if total_games > 0:\n",
    "            player[\"winRate\"] = round((player[\"wins\"] / total_games) * 100, 2)\n",
    "        else:\n",
    "            player[\"winRate\"] = 10.0\n",
    "    else:\n",
    "        entries.remove(player)\n",
    "\n",
    "# Sắp xếp entry theo số trận giảm dần\n",
    "entries = sorted(entries, key=lambda x: x[\"wins\"] + x[\"losses\"], reverse=True)"
   ]
  },
  {
   "cell_type": "code",
   "execution_count": null,
   "metadata": {},
   "outputs": [],
   "source": [
    "# Ghi dữ liệu\n",
    "with open(entries_file_name, 'w', encoding='utf-8') as file:\n",
    "    json.dump(entries, file, ensure_ascii=False, indent=4)"
   ]
  },
  {
   "cell_type": "markdown",
   "metadata": {},
   "source": [
    "### 5. puuID của 100 người chơi nhiều trận nhất"
   ]
  },
  {
   "cell_type": "code",
   "execution_count": null,
   "metadata": {},
   "outputs": [],
   "source": [
    "def get_puuid_of_100_player_having_most_matches(entries, api_key, headers):    \n",
    "    summonerIds = []\n",
    "    puuids = []\n",
    "    base_url = 'https://kr.api.riotgames.com/lol/summoner/v4/summoners/'\n",
    "    for i in range(100):\n",
    "        entry = entries[i]\n",
    "        summonerIds.append(entry[\"summonerId\"])\n",
    "    for summonerId in summonerIds:\n",
    "        url = base_url + summonerId + '?api_key=' + api_key\n",
    "        response = requests.get(url, headers=headers)     \n",
    "        data = response.json()  \n",
    "        puuids.append(data[\"puuid\"]) \n",
    "    return puuids"
   ]
  },
  {
   "cell_type": "code",
   "execution_count": 97,
   "metadata": {},
   "outputs": [],
   "source": [
    "puuids_of_100_player_having_most_matches = get_puuid_of_100_player_having_most_matches(entries, api_key, headers)"
   ]
  },
  {
   "cell_type": "code",
   "execution_count": null,
   "metadata": {},
   "outputs": [],
   "source": [
    "# Ghi dữ liệu\n",
    "with open(puuids_of_100_player_having_most_matches_file_name, 'w', encoding='utf-8') as file:\n",
    "    json.dump(puuids_of_100_player_having_most_matches, file, ensure_ascii=False, indent=4)"
   ]
  }
 ],
 "metadata": {
  "kernelspec": {
   "display_name": "base",
   "language": "python",
   "name": "python3"
  },
  "language_info": {
   "codemirror_mode": {
    "name": "ipython",
    "version": 3
   },
   "file_extension": ".py",
   "mimetype": "text/x-python",
   "name": "python",
   "nbconvert_exporter": "python",
   "pygments_lexer": "ipython3",
   "version": "3.12.2"
  }
 },
 "nbformat": 4,
 "nbformat_minor": 2
}
