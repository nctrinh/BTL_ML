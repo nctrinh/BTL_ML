{
 "cells": [
  {
   "cell_type": "markdown",
   "metadata": {},
   "source": [
    "### 1. Import thư viện"
   ]
  },
  {
   "cell_type": "code",
   "execution_count": 1,
   "metadata": {},
   "outputs": [],
   "source": [
    "import requests\n",
    "import json"
   ]
  },
  {
   "cell_type": "markdown",
   "metadata": {},
   "source": [
    "### 2. Khai báo tên file"
   ]
  },
  {
   "cell_type": "code",
   "execution_count": 5,
   "metadata": {},
   "outputs": [],
   "source": [
    "matchID_file_name = r'D:\\Learning\\ML\\BTL\\get_raw_data\\raw_data\\matchID.json'\n",
    "puuids_of_100_player_having_most_matches_file_name = r'D:\\Learning\\ML\\BTL\\get_raw_data\\raw_data\\puuid.json'"
   ]
  },
  {
   "cell_type": "markdown",
   "metadata": {},
   "source": [
    "### 3. Khai báo Header và API key cho Request"
   ]
  },
  {
   "cell_type": "code",
   "execution_count": 3,
   "metadata": {},
   "outputs": [],
   "source": [
    "headers = {\n",
    "    \"User-Agent\": \"Mozilla/5.0 (Windows NT 10.0; Win64; x64) AppleWebKit/537.36 (KHTML, like Gecko) Chrome/131.0.0.0 Safari/537.36 Edg/131.0.0.0\",\n",
    "    \"Accept-Language\": \"vi,en;q=0.9,en-GB;q=0.8,en-US;q=0.7\",\n",
    "    \"Accept-Charset\": \"application/x-www-form-urlencoded; charset=UTF-8\",\n",
    "    \"Origin\": \"https://developer.riotgames.com\"\n",
    "}"
   ]
  },
  {
   "cell_type": "code",
   "execution_count": 4,
   "metadata": {},
   "outputs": [],
   "source": [
    "api_key = 'RGAPI-535f85d1-32bf-4ba4-8c93-42a86252bd19'"
   ]
  },
  {
   "cell_type": "markdown",
   "metadata": {},
   "source": [
    "### 4. Danh sách 30 trận mỗi người của 100 người đã lấy puuID (có loại bỏ trùng lặp)"
   ]
  },
  {
   "cell_type": "code",
   "execution_count": 19,
   "metadata": {},
   "outputs": [],
   "source": [
    "with open(puuids_of_100_player_having_most_matches_file_name, 'r', encoding='utf-8') as file:\n",
    "    puuIDs = json.load(file)"
   ]
  },
  {
   "cell_type": "code",
   "execution_count": 25,
   "metadata": {},
   "outputs": [],
   "source": [
    "def get_matchIDs(api_key, headers, puuIDs):\n",
    "    base_url = 'https://asia.api.riotgames.com/lol/match/v5/matches/by-puuid/'\n",
    "    matchIDs = set()\n",
    "    for puuID in puuIDs:\n",
    "        url = base_url + puuID + '/ids?start=0&count=30&api_key=' + api_key\n",
    "        response = requests.get(url, headers=headers)     \n",
    "        data = response.json() \n",
    "        matchIDs.update(data)\n",
    "    return list(matchIDs)"
   ]
  },
  {
   "cell_type": "code",
   "execution_count": 26,
   "metadata": {},
   "outputs": [],
   "source": [
    "matchIDs = get_matchIDs(api_key, headers, puuIDs)"
   ]
  },
  {
   "cell_type": "code",
   "execution_count": 27,
   "metadata": {},
   "outputs": [],
   "source": [
    "# Ghi dữ liệu\n",
    "with open(matchID_file_name, 'w', encoding='utf-8') as file:\n",
    "    json.dump(matchIDs, file, ensure_ascii=False, indent=4)"
   ]
  },
  {
   "cell_type": "code",
   "execution_count": null,
   "metadata": {},
   "outputs": [],
   "source": []
  }
 ],
 "metadata": {
  "kernelspec": {
   "display_name": "base",
   "language": "python",
   "name": "python3"
  },
  "language_info": {
   "codemirror_mode": {
    "name": "ipython",
    "version": 3
   },
   "file_extension": ".py",
   "mimetype": "text/x-python",
   "name": "python",
   "nbconvert_exporter": "python",
   "pygments_lexer": "ipython3",
   "version": "3.12.2"
  }
 },
 "nbformat": 4,
 "nbformat_minor": 2
}
